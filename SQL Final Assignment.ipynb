{
 "cells": [
  {
   "cell_type": "code",
   "execution_count": 20,
   "metadata": {},
   "outputs": [
    {
     "name": "stderr",
     "output_type": "stream",
     "text": [
      "C:\\Users\\kylem\\anaconda3\\lib\\site-packages\\ipykernel_launcher.py:7: FutureWarning: Passing a negative integer is deprecated in version 1.0 and will not be supported in future version. Instead, use None to not limit the column width.\n",
      "  import sys\n"
     ]
    }
   ],
   "source": [
    "import pandas as pd\n",
    "\n",
    "tweets = pd.read_csv('datasets_695933_1217821_stock_data.csv')\n",
    "\n",
    "tweets['id'] = range(1, len(tweets) + 1)\n",
    "del tweets['Sentiment']\n",
    "pd.set_option('display.max_colwidth', -1)"
   ]
  },
  {
   "cell_type": "code",
   "execution_count": 21,
   "metadata": {},
   "outputs": [
    {
     "data": {
      "text/html": [
       "<div>\n",
       "<style scoped>\n",
       "    .dataframe tbody tr th:only-of-type {\n",
       "        vertical-align: middle;\n",
       "    }\n",
       "\n",
       "    .dataframe tbody tr th {\n",
       "        vertical-align: top;\n",
       "    }\n",
       "\n",
       "    .dataframe thead th {\n",
       "        text-align: right;\n",
       "    }\n",
       "</style>\n",
       "<table border=\"1\" class=\"dataframe\">\n",
       "  <thead>\n",
       "    <tr style=\"text-align: right;\">\n",
       "      <th></th>\n",
       "      <th>Text</th>\n",
       "      <th>id</th>\n",
       "    </tr>\n",
       "  </thead>\n",
       "  <tbody>\n",
       "    <tr>\n",
       "      <th>0</th>\n",
       "      <td>Kickers on my watchlist XIDE TIT SOQ PNK CPW BPZ AJ  trade method 1 or method 2, see prev posts</td>\n",
       "      <td>1</td>\n",
       "    </tr>\n",
       "    <tr>\n",
       "      <th>1</th>\n",
       "      <td>user: AAP MOVIE. 55% return for the FEA/GEED indicator just 15 trades for the year.  AWESOME.</td>\n",
       "      <td>2</td>\n",
       "    </tr>\n",
       "    <tr>\n",
       "      <th>2</th>\n",
       "      <td>user I'd be afraid to short AMZN - they are looking like a near-monopoly in eBooks and infrastructure-as-a-service</td>\n",
       "      <td>3</td>\n",
       "    </tr>\n",
       "    <tr>\n",
       "      <th>3</th>\n",
       "      <td>MNTA Over 12.00</td>\n",
       "      <td>4</td>\n",
       "    </tr>\n",
       "    <tr>\n",
       "      <th>4</th>\n",
       "      <td>OI  Over 21.37</td>\n",
       "      <td>5</td>\n",
       "    </tr>\n",
       "  </tbody>\n",
       "</table>\n",
       "</div>"
      ],
      "text/plain": [
       "                                                                                                                 Text  \\\n",
       "0  Kickers on my watchlist XIDE TIT SOQ PNK CPW BPZ AJ  trade method 1 or method 2, see prev posts                      \n",
       "1  user: AAP MOVIE. 55% return for the FEA/GEED indicator just 15 trades for the year.  AWESOME.                        \n",
       "2  user I'd be afraid to short AMZN - they are looking like a near-monopoly in eBooks and infrastructure-as-a-service   \n",
       "3  MNTA Over 12.00                                                                                                      \n",
       "4  OI  Over 21.37                                                                                                       \n",
       "\n",
       "   id  \n",
       "0  1   \n",
       "1  2   \n",
       "2  3   \n",
       "3  4   \n",
       "4  5   "
      ]
     },
     "execution_count": 21,
     "metadata": {},
     "output_type": "execute_result"
    }
   ],
   "source": [
    "tweets.head()"
   ]
  },
  {
   "cell_type": "code",
   "execution_count": 22,
   "metadata": {},
   "outputs": [],
   "source": [
    "#takes a sentence, splits it and counts the words\n",
    "def word_count(str):\n",
    "    counts = dict()\n",
    "    words = str.split()\n",
    "    \n",
    "    for word in words:\n",
    "        if word in counts:\n",
    "            counts[word] +=1\n",
    "        else:\n",
    "            counts[word] = 1\n",
    "            \n",
    "    return counts \n",
    "\n",
    "# takes an array of tweets and gives me counts\n",
    "def tweet_counts(tweet_array, threshold=10):\n",
    "    unique, counts = np.unique(np.array(tweet), return_counts=True)\n",
    "    count_dict = dict(zip(unique, counts))\n",
    "    \n",
    "    return [{k,v} for k, v in count_dict.items() if v > threshold]\n"
   ]
  },
  {
   "cell_type": "code",
   "execution_count": 23,
   "metadata": {},
   "outputs": [],
   "source": [
    "stopwords = ['i',\n",
    "'me',\n",
    "'my',\n",
    "'myself',\n",
    "'we',\n",
    "'our',\n",
    "'ours',\n",
    "'ourselves',\n",
    "'you',\n",
    "'your',\n",
    "'yours',\n",
    "'yourself',\n",
    "'yourselves',\n",
    "'he',\n",
    "'him',\n",
    "'his',\n",
    "'himself',\n",
    "'she',\n",
    "'her',\n",
    "'hers',\n",
    "'herself',\n",
    "'it',\n",
    "'its',\n",
    "'itself',\n",
    "'they',\n",
    "'them',\n",
    "'their',\n",
    "'theirs',\n",
    "'themselves',\n",
    "'what',\n",
    "'which',\n",
    "'who',\n",
    "'whom',\n",
    "'this',\n",
    "'that',\n",
    "'these',\n",
    "'those',\n",
    "'am',\n",
    "'is',\n",
    "'are',\n",
    "'was',\n",
    "'were',\n",
    "'be',\n",
    "'been',\n",
    "'being',\n",
    "'have',\n",
    "'has',\n",
    "'had',\n",
    "'having',\n",
    "'do',\n",
    "'does',\n",
    "'did',\n",
    "'doing',\n",
    "'a',\n",
    "'an',\n",
    "'the',\n",
    "'and',\n",
    "'but',\n",
    "'if',\n",
    "'or',\n",
    "'because',\n",
    "'as',\n",
    "'until',\n",
    "'while',\n",
    "'of',\n",
    "'at',\n",
    "'by',\n",
    "'for',\n",
    "'with',\n",
    "'about',\n",
    "'against',\n",
    "'between',\n",
    "'into',\n",
    "'through',\n",
    "'during',\n",
    "'before',\n",
    "'after',\n",
    "'above',\n",
    "'below',\n",
    "'to',\n",
    "'from',\n",
    "'up',\n",
    "'down',\n",
    "'in',\n",
    "'out',\n",
    "'on',\n",
    "'off',\n",
    "'over',\n",
    "'under',\n",
    "'again',\n",
    "'further',\n",
    "'then',\n",
    "'once',\n",
    "'here',\n",
    "'there',\n",
    "'when',\n",
    "'where',\n",
    "'why',\n",
    "'how',\n",
    "'all',\n",
    "'any',\n",
    "'both',\n",
    "'each',\n",
    "'few',\n",
    "'more',\n",
    "'most',\n",
    "'other',\n",
    "'some',\n",
    "'such',\n",
    "'no',\n",
    "'nor',\n",
    "'not',\n",
    "'only',\n",
    "'own',\n",
    "'same',\n",
    "'so',\n",
    "'than',\n",
    "'too',\n",
    "'very',\n",
    "'s',\n",
    "'t',\n",
    "'can',\n",
    "'will',\n",
    "'just',\n",
    "'don',\n",
    "'should',\n",
    "'now','', '-', 'I', 'user:', 'user', '&', 'like', 'volume', 'day', 'The', 'today', 'stock', \n",
    "'still', 'move', 'new', 'To', 'Triangle', 'back', 'see', 'ong', 'time', 'next', 'looking', 'Nifty', \n",
    "'In']\n",
    "\n",
    "sw_df = pd.DataFrame(stopwords, columns=['stopword'])"
   ]
  },
  {
   "cell_type": "code",
   "execution_count": 24,
   "metadata": {
    "scrolled": true
   },
   "outputs": [
    {
     "data": {
      "text/plain": [
       "[('AAP', 884),\n",
       " ('short', 293),\n",
       " ('long', 225),\n",
       " ('BAC', 202),\n",
       " ('GOOG', 191),\n",
       " ('good', 179),\n",
       " ('nice', 149),\n",
       " ('buy', 143),\n",
       " ('watch', 136),\n",
       " ('stop', 122),\n",
       " ('one', 122),\n",
       " ('break', 119),\n",
       " ('looks', 114),\n",
       " ('last', 114),\n",
       " ('higher', 109),\n",
       " ('could', 106),\n",
       " ('NFX', 105),\n",
       " ('close', 103),\n",
       " ('going', 102),\n",
       " ('RT', 100)]"
      ]
     },
     "execution_count": 24,
     "metadata": {},
     "output_type": "execute_result"
    }
   ],
   "source": [
    "from collections import Counter\n",
    "\n",
    "no_sw = tweets.Text.apply(lambda word: [word for word in word.split(' ') if word not in stopwords])\n",
    "\n",
    "corpus = []\n",
    "for ea in no_sw:\n",
    "    corpus += ea\n",
    "wordDict = Counter(corpus)\n",
    "\n",
    "[ (k, v) for k, v in sorted(wordDict.items(), key=lambda item: item[1], reverse=True) ][:20]"
   ]
  },
  {
   "cell_type": "markdown",
   "metadata": {},
   "source": [
    "# Sentiment Analysis"
   ]
  },
  {
   "cell_type": "code",
   "execution_count": 25,
   "metadata": {},
   "outputs": [],
   "source": [
    "from textblob import TextBlob\n",
    "\n",
    "tweets['sentiment'] = tweets.Text.apply(lambda text: TextBlob(text).sentiment[0])"
   ]
  },
  {
   "cell_type": "code",
   "execution_count": 26,
   "metadata": {},
   "outputs": [],
   "source": [
    "from pandasql import sqldf\n",
    "pysqldf = lambda q: sqldf(q, globals())"
   ]
  },
  {
   "cell_type": "code",
   "execution_count": 27,
   "metadata": {},
   "outputs": [
    {
     "data": {
      "text/html": [
       "<div>\n",
       "<style scoped>\n",
       "    .dataframe tbody tr th:only-of-type {\n",
       "        vertical-align: middle;\n",
       "    }\n",
       "\n",
       "    .dataframe tbody tr th {\n",
       "        vertical-align: top;\n",
       "    }\n",
       "\n",
       "    .dataframe thead th {\n",
       "        text-align: right;\n",
       "    }\n",
       "</style>\n",
       "<table border=\"1\" class=\"dataframe\">\n",
       "  <thead>\n",
       "    <tr style=\"text-align: right;\">\n",
       "      <th></th>\n",
       "      <th>Text</th>\n",
       "      <th>id</th>\n",
       "      <th>sentiment</th>\n",
       "    </tr>\n",
       "  </thead>\n",
       "  <tbody>\n",
       "    <tr>\n",
       "      <th>0</th>\n",
       "      <td>Kickers on my watchlist XIDE TIT SOQ PNK CPW BPZ AJ  trade method 1 or method 2, see prev posts</td>\n",
       "      <td>1</td>\n",
       "      <td>0.0</td>\n",
       "    </tr>\n",
       "    <tr>\n",
       "      <th>1</th>\n",
       "      <td>user: AAP MOVIE. 55% return for the FEA/GEED indicator just 15 trades for the year.  AWESOME.</td>\n",
       "      <td>2</td>\n",
       "      <td>1.0</td>\n",
       "    </tr>\n",
       "    <tr>\n",
       "      <th>2</th>\n",
       "      <td>user I'd be afraid to short AMZN - they are looking like a near-monopoly in eBooks and infrastructure-as-a-service</td>\n",
       "      <td>3</td>\n",
       "      <td>-0.3</td>\n",
       "    </tr>\n",
       "    <tr>\n",
       "      <th>3</th>\n",
       "      <td>MNTA Over 12.00</td>\n",
       "      <td>4</td>\n",
       "      <td>0.0</td>\n",
       "    </tr>\n",
       "    <tr>\n",
       "      <th>4</th>\n",
       "      <td>OI  Over 21.37</td>\n",
       "      <td>5</td>\n",
       "      <td>0.0</td>\n",
       "    </tr>\n",
       "  </tbody>\n",
       "</table>\n",
       "</div>"
      ],
      "text/plain": [
       "                                                                                                                 Text  \\\n",
       "0  Kickers on my watchlist XIDE TIT SOQ PNK CPW BPZ AJ  trade method 1 or method 2, see prev posts                      \n",
       "1  user: AAP MOVIE. 55% return for the FEA/GEED indicator just 15 trades for the year.  AWESOME.                        \n",
       "2  user I'd be afraid to short AMZN - they are looking like a near-monopoly in eBooks and infrastructure-as-a-service   \n",
       "3  MNTA Over 12.00                                                                                                      \n",
       "4  OI  Over 21.37                                                                                                       \n",
       "\n",
       "   id  sentiment  \n",
       "0  1   0.0        \n",
       "1  2   1.0        \n",
       "2  3  -0.3        \n",
       "3  4   0.0        \n",
       "4  5   0.0        "
      ]
     },
     "execution_count": 27,
     "metadata": {},
     "output_type": "execute_result"
    }
   ],
   "source": [
    "pysqldf(\"SELECT * FROM tweets\").head()"
   ]
  },
  {
   "cell_type": "code",
   "execution_count": 28,
   "metadata": {},
   "outputs": [
    {
     "data": {
      "text/html": [
       "<div>\n",
       "<style scoped>\n",
       "    .dataframe tbody tr th:only-of-type {\n",
       "        vertical-align: middle;\n",
       "    }\n",
       "\n",
       "    .dataframe tbody tr th {\n",
       "        vertical-align: top;\n",
       "    }\n",
       "\n",
       "    .dataframe thead th {\n",
       "        text-align: right;\n",
       "    }\n",
       "</style>\n",
       "<table border=\"1\" class=\"dataframe\">\n",
       "  <thead>\n",
       "    <tr style=\"text-align: right;\">\n",
       "      <th></th>\n",
       "      <th>Text</th>\n",
       "      <th>id</th>\n",
       "      <th>sentiment</th>\n",
       "    </tr>\n",
       "  </thead>\n",
       "  <tbody>\n",
       "    <tr>\n",
       "      <th>0</th>\n",
       "      <td>user: AAP MOVIE. 55% return for the FEA/GEED indicator just 15 trades for the year.  AWESOME.</td>\n",
       "      <td>2</td>\n",
       "      <td>1.0</td>\n",
       "    </tr>\n",
       "    <tr>\n",
       "      <th>1</th>\n",
       "      <td>AAP VOME today is impressive. At this rate and well probably get to 30M shares traded today.</td>\n",
       "      <td>31</td>\n",
       "      <td>1.0</td>\n",
       "    </tr>\n",
       "    <tr>\n",
       "      <th>2</th>\n",
       "      <td>user: AMZN it's time for this bird to fly south!</td>\n",
       "      <td>331</td>\n",
       "      <td>1.0</td>\n",
       "    </tr>\n",
       "    <tr>\n",
       "      <th>3</th>\n",
       "      <td>NS Perfect day for a reversal candle on the dailies.</td>\n",
       "      <td>423</td>\n",
       "      <td>1.0</td>\n",
       "    </tr>\n",
       "    <tr>\n",
       "      <th>4</th>\n",
       "      <td>user The day of the MA IPO I tripled my position at 42 (IPO priced at 39) never touched it since, probably my best stock move ever...</td>\n",
       "      <td>459</td>\n",
       "      <td>1.0</td>\n",
       "    </tr>\n",
       "    <tr>\n",
       "      <th>...</th>\n",
       "      <td>...</td>\n",
       "      <td>...</td>\n",
       "      <td>...</td>\n",
       "    </tr>\n",
       "    <tr>\n",
       "      <th>4732</th>\n",
       "      <td>Goldman Sachs tells investors to go defensive amid share market slump, pick large-caps to beat virus\\n#sensex… https://t.co/QCVjebyKle</td>\n",
       "      <td>5785</td>\n",
       "      <td>0.0</td>\n",
       "    </tr>\n",
       "    <tr>\n",
       "      <th>4733</th>\n",
       "      <td>#TCS #share price jumps 9% on no #layoffs, #dividend announcements; should you buy, sell or hold the stock https://t.co/ijDFJRDLOl</td>\n",
       "      <td>5786</td>\n",
       "      <td>0.0</td>\n",
       "    </tr>\n",
       "    <tr>\n",
       "      <th>4734</th>\n",
       "      <td>Industry body CII said #discoms are likely to suffer a net revenue loss of around Rs 30,000 crore\\n\\nhttps://t.co/8c6YJYJajL</td>\n",
       "      <td>5787</td>\n",
       "      <td>0.0</td>\n",
       "    </tr>\n",
       "    <tr>\n",
       "      <th>4735</th>\n",
       "      <td>#Gold prices slip below Rs 46,000 as #investors book profits amid #coronavirus-led #recession fears https://t.co/fSylAJrUqv</td>\n",
       "      <td>5788</td>\n",
       "      <td>0.0</td>\n",
       "    </tr>\n",
       "    <tr>\n",
       "      <th>4736</th>\n",
       "      <td>Workers at Bajaj Auto have agreed to a 10% wage cut for the period between April 15 and till the lockdown is lifted. https://t.co/RgvrKPliNd</td>\n",
       "      <td>5789</td>\n",
       "      <td>0.0</td>\n",
       "    </tr>\n",
       "  </tbody>\n",
       "</table>\n",
       "<p>4737 rows × 3 columns</p>\n",
       "</div>"
      ],
      "text/plain": [
       "                                                                                                                                              Text  \\\n",
       "0     user: AAP MOVIE. 55% return for the FEA/GEED indicator just 15 trades for the year.  AWESOME.                                                  \n",
       "1     AAP VOME today is impressive. At this rate and well probably get to 30M shares traded today.                                                   \n",
       "2     user: AMZN it's time for this bird to fly south!                                                                                               \n",
       "3     NS Perfect day for a reversal candle on the dailies.                                                                                           \n",
       "4     user The day of the MA IPO I tripled my position at 42 (IPO priced at 39) never touched it since, probably my best stock move ever...          \n",
       "...                                                                                                                                     ...          \n",
       "4732  Goldman Sachs tells investors to go defensive amid share market slump, pick large-caps to beat virus\\n#sensex… https://t.co/QCVjebyKle         \n",
       "4733  #TCS #share price jumps 9% on no #layoffs, #dividend announcements; should you buy, sell or hold the stock https://t.co/ijDFJRDLOl             \n",
       "4734  Industry body CII said #discoms are likely to suffer a net revenue loss of around Rs 30,000 crore\\n\\nhttps://t.co/8c6YJYJajL                   \n",
       "4735  #Gold prices slip below Rs 46,000 as #investors book profits amid #coronavirus-led #recession fears https://t.co/fSylAJrUqv                    \n",
       "4736  Workers at Bajaj Auto have agreed to a 10% wage cut for the period between April 15 and till the lockdown is lifted. https://t.co/RgvrKPliNd   \n",
       "\n",
       "        id  sentiment  \n",
       "0     2     1.0        \n",
       "1     31    1.0        \n",
       "2     331   1.0        \n",
       "3     423   1.0        \n",
       "4     459   1.0        \n",
       "...   ...   ...        \n",
       "4732  5785  0.0        \n",
       "4733  5786  0.0        \n",
       "4734  5787  0.0        \n",
       "4735  5788  0.0        \n",
       "4736  5789  0.0        \n",
       "\n",
       "[4737 rows x 3 columns]"
      ]
     },
     "execution_count": 28,
     "metadata": {},
     "output_type": "execute_result"
    }
   ],
   "source": [
    "pysqldf(\"SELECT * FROM tweets where sentiment >= 0.0 order by sentiment DESC\")"
   ]
  },
  {
   "cell_type": "code",
   "execution_count": 29,
   "metadata": {},
   "outputs": [
    {
     "data": {
      "text/html": [
       "<div>\n",
       "<style scoped>\n",
       "    .dataframe tbody tr th:only-of-type {\n",
       "        vertical-align: middle;\n",
       "    }\n",
       "\n",
       "    .dataframe tbody tr th {\n",
       "        vertical-align: top;\n",
       "    }\n",
       "\n",
       "    .dataframe thead th {\n",
       "        text-align: right;\n",
       "    }\n",
       "</style>\n",
       "<table border=\"1\" class=\"dataframe\">\n",
       "  <thead>\n",
       "    <tr style=\"text-align: right;\">\n",
       "      <th></th>\n",
       "      <th>Text</th>\n",
       "      <th>id</th>\n",
       "      <th>sentiment</th>\n",
       "    </tr>\n",
       "  </thead>\n",
       "  <tbody>\n",
       "    <tr>\n",
       "      <th>0</th>\n",
       "      <td>ltra base? TEK  #ltratech Step it up! #Stepper</td>\n",
       "      <td>997</td>\n",
       "      <td>-1.000000e+00</td>\n",
       "    </tr>\n",
       "    <tr>\n",
       "      <th>1</th>\n",
       "      <td>AAP should buy a gold miner at this point and just drill the earth with their cash hoard.  'Be evil' campaign...mix it up</td>\n",
       "      <td>1348</td>\n",
       "      <td>-1.000000e+00</td>\n",
       "    </tr>\n",
       "    <tr>\n",
       "      <th>2</th>\n",
       "      <td>AEE who says utilities are boring</td>\n",
       "      <td>2738</td>\n",
       "      <td>-1.000000e+00</td>\n",
       "    </tr>\n",
       "    <tr>\n",
       "      <th>3</th>\n",
       "      <td>NFX INSANE</td>\n",
       "      <td>4312</td>\n",
       "      <td>-1.000000e+00</td>\n",
       "    </tr>\n",
       "    <tr>\n",
       "      <th>4</th>\n",
       "      <td>The loss will help push SoftBank into some of the worst results in the companyâ€™s 39-year history https://t.co/XbYyDRNm1W</td>\n",
       "      <td>5108</td>\n",
       "      <td>-1.000000e+00</td>\n",
       "    </tr>\n",
       "    <tr>\n",
       "      <th>...</th>\n",
       "      <td>...</td>\n",
       "      <td>...</td>\n",
       "      <td>...</td>\n",
       "    </tr>\n",
       "    <tr>\n",
       "      <th>1049</th>\n",
       "      <td>FFIV - Worked off overbought levels quickly after testing the top side of this long term base.  Gap fill at 99.05. Ascending triangle.</td>\n",
       "      <td>2597</td>\n",
       "      <td>-4.166667e-03</td>\n",
       "    </tr>\n",
       "    <tr>\n",
       "      <th>1050</th>\n",
       "      <td>F coiling so hard right now</td>\n",
       "      <td>721</td>\n",
       "      <td>-2.976190e-03</td>\n",
       "    </tr>\n",
       "    <tr>\n",
       "      <th>1051</th>\n",
       "      <td>APO 20 green days in a row so far, but no new high yet today.</td>\n",
       "      <td>618</td>\n",
       "      <td>-2.045455e-03</td>\n",
       "    </tr>\n",
       "    <tr>\n",
       "      <th>1052</th>\n",
       "      <td>user Time and time again revenues slow down for hot stocks like lulu and they bend over to hide the real cause.</td>\n",
       "      <td>4799</td>\n",
       "      <td>-1.388889e-03</td>\n",
       "    </tr>\n",
       "    <tr>\n",
       "      <th>1053</th>\n",
       "      <td>Global markets rise following fresh signals that lockdowns in the U.S. and Europe are helping slow the coronavirusâ€¦ https://t.co/JZby0qx2Yd</td>\n",
       "      <td>5276</td>\n",
       "      <td>-1.387779e-17</td>\n",
       "    </tr>\n",
       "  </tbody>\n",
       "</table>\n",
       "<p>1054 rows × 3 columns</p>\n",
       "</div>"
      ],
      "text/plain": [
       "                                                                                                                                               Text  \\\n",
       "0     ltra base? TEK  #ltratech Step it up! #Stepper                                                                                                  \n",
       "1     AAP should buy a gold miner at this point and just drill the earth with their cash hoard.  'Be evil' campaign...mix it up                       \n",
       "2     AEE who says utilities are boring                                                                                                               \n",
       "3     NFX INSANE                                                                                                                                      \n",
       "4     The loss will help push SoftBank into some of the worst results in the companyâ€™s 39-year history https://t.co/XbYyDRNm1W                      \n",
       "...                                                                                                                          ...                      \n",
       "1049  FFIV - Worked off overbought levels quickly after testing the top side of this long term base.  Gap fill at 99.05. Ascending triangle.          \n",
       "1050  F coiling so hard right now                                                                                                                     \n",
       "1051  APO 20 green days in a row so far, but no new high yet today.                                                                                   \n",
       "1052  user Time and time again revenues slow down for hot stocks like lulu and they bend over to hide the real cause.                                 \n",
       "1053  Global markets rise following fresh signals that lockdowns in the U.S. and Europe are helping slow the coronavirusâ€¦ https://t.co/JZby0qx2Yd   \n",
       "\n",
       "        id     sentiment  \n",
       "0     997  -1.000000e+00  \n",
       "1     1348 -1.000000e+00  \n",
       "2     2738 -1.000000e+00  \n",
       "3     4312 -1.000000e+00  \n",
       "4     5108 -1.000000e+00  \n",
       "...    ...           ...  \n",
       "1049  2597 -4.166667e-03  \n",
       "1050  721  -2.976190e-03  \n",
       "1051  618  -2.045455e-03  \n",
       "1052  4799 -1.388889e-03  \n",
       "1053  5276 -1.387779e-17  \n",
       "\n",
       "[1054 rows x 3 columns]"
      ]
     },
     "execution_count": 29,
     "metadata": {},
     "output_type": "execute_result"
    }
   ],
   "source": [
    "pysqldf(\"SELECT * FROM tweets where sentiment < 0.0 order by sentiment\")"
   ]
  },
  {
   "cell_type": "code",
   "execution_count": 30,
   "metadata": {},
   "outputs": [
    {
     "data": {
      "text/plain": [
       "<matplotlib.axes._subplots.AxesSubplot at 0x25bab26a088>"
      ]
     },
     "execution_count": 30,
     "metadata": {},
     "output_type": "execute_result"
    },
    {
     "data": {
      "image/png": "[encoded data removed]",
      "text/plain": [
       "<Figure size 432x288 with 1 Axes>"
      ]
     },
     "metadata": {
      "needs_background": "light"
     },
     "output_type": "display_data"
    }
   ],
   "source": [
    "tweets.sentiment.hist()"
   ]
  },
  {
   "cell_type": "code",
   "execution_count": 37,
   "metadata": {},
   "outputs": [
    {
     "data": {
      "text/plain": [
       "<matplotlib.axes._subplots.AxesSubplot at 0x25babdcd488>"
      ]
     },
     "execution_count": 37,
     "metadata": {},
     "output_type": "execute_result"
    },
    {
     "data": {
      "image/png": "[encoded data removed]",
      "text/plain": [
       "<Figure size 432x288 with 1 Axes>"
      ]
     },
     "metadata": {
      "needs_background": "light"
     },
     "output_type": "display_data"
    }
   ],
   "source": [
    "AAP = pysqldf(\"SELECT * FROM tweets where Text like '%AAP%'\")\n",
    "AAP.sentiment.hist()"
   ]
  },
  {
   "cell_type": "code",
   "execution_count": 38,
   "metadata": {},
   "outputs": [
    {
     "data": {
      "text/plain": [
       "<matplotlib.axes._subplots.AxesSubplot at 0x25bac1fbd48>"
      ]
     },
     "execution_count": 38,
     "metadata": {},
     "output_type": "execute_result"
    },
    {
     "data": {
      "image/png": "[encoded data removed]",
      "text/plain": [
       "<Figure size 432x288 with 1 Axes>"
      ]
     },
     "metadata": {
      "needs_background": "light"
     },
     "output_type": "display_data"
    }
   ],
   "source": [
    "GOOG = pysqldf(\"SELECT * FROM tweets where Text like '%GOOG%'\")\n",
    "GOOG.sentiment.hist()"
   ]
  },
  {
   "cell_type": "code",
   "execution_count": 39,
   "metadata": {},
   "outputs": [
    {
     "data": {
      "text/plain": [
       "<matplotlib.axes._subplots.AxesSubplot at 0x25bac16ad48>"
      ]
     },
     "execution_count": 39,
     "metadata": {},
     "output_type": "execute_result"
    },
    {
     "data": {
      "image/png": "[encoded data removed]",
      "text/plain": [
       "<Figure size 432x288 with 1 Axes>"
      ]
     },
     "metadata": {
      "needs_background": "light"
     },
     "output_type": "display_data"
    }
   ],
   "source": [
    "BAC = pysqldf(\"SELECT * FROM tweets where Text like '%BAC%'\")\n",
    "BAC.sentiment.hist()"
   ]
  },
  {
   "cell_type": "code",
   "execution_count": 55,
   "metadata": {},
   "outputs": [],
   "source": [
    "all_tweets = pysqldf(\"SELECT * FROM tweets\")\n",
    "long = pysqldf(\"SELECT * FROM tweets where Text like '%long%'\")\n",
    "short = pysqldf(\"SELECT * FROM tweets where Text like '%short%'\")"
   ]
  },
  {
   "cell_type": "code",
   "execution_count": 54,
   "metadata": {},
   "outputs": [
    {
     "data": {
      "image/png": "[encoded data removed]",
      "text/plain": [
       "<Figure size 432x288 with 1 Axes>"
      ]
     },
     "metadata": {
      "needs_background": "light"
     },
     "output_type": "display_data"
    }
   ],
   "source": [
    "import numpy as np\n",
    "import matplotlib.pyplot as plt\n",
    "\n",
    "%matplotlib inline\n",
    "\n",
    "plt.hist(GOOG.sentiment, bins=20, label='GOOG', alpha=0.5)\n",
    "plt.hist(AAP.sentiment, bins=20, label='AAP', alpha=0.5)\n",
    "plt.legend(loc='best')\n",
    "plt.show()"
   ]
  },
  {
   "cell_type": "code",
   "execution_count": 57,
   "metadata": {},
   "outputs": [
    {
     "data": {
      "image/png": "[encoded data removed]",
      "text/plain": [
       "<Figure size 432x288 with 1 Axes>"
      ]
     },
     "metadata": {
      "needs_background": "light"
     },
     "output_type": "display_data"
    }
   ],
   "source": [
    "plt.hist(GOOG.sentiment, bins=20, label='GOOG', alpha=0.5)\n",
    "plt.hist(all_tweets.sentiment, bins=20, label='All Tweets', alpha=0.5)\n",
    "plt.legend(loc='best')\n",
    "plt.show()"
   ]
  },
  {
   "cell_type": "code",
   "execution_count": 59,
   "metadata": {},
   "outputs": [
    {
     "data": {
      "image/png": "[encoded data removed]",
      "text/plain": [
       "<Figure size 432x288 with 1 Axes>"
      ]
     },
     "metadata": {
      "needs_background": "light"
     },
     "output_type": "display_data"
    }
   ],
   "source": [
    "plt.hist(long.sentiment, bins=20, label='Long', alpha=0.5)\n",
    "plt.hist(short.sentiment, bins=20, label='Short', alpha=0.5)\n",
    "plt.legend(loc='best')\n",
    "plt.show()"
   ]
  },
  {
   "cell_type": "code",
   "execution_count": 66,
   "metadata": {},
   "outputs": [
    {
     "data": {
      "text/plain": [
       "[0.085825483572996,\n",
       " 0.07796707712255951,\n",
       " 0.06547349718046587,\n",
       " 0.02590601587836661,\n",
       " 0.061150542478355]"
      ]
     },
     "execution_count": 66,
     "metadata": {},
     "output_type": "execute_result"
    }
   ],
   "source": [
    "means = [GOOG.sentiment.mean(),\n",
    "all_tweets.sentiment.mean(),\n",
    "AAP.sentiment.mean(),\n",
    "long.sentiment.mean(),\n",
    "short.sentiment.mean()]\n",
    "means"
   ]
  },
  {
   "cell_type": "code",
   "execution_count": null,
   "metadata": {},
   "outputs": [],
   "source": []
  }
 ],
 "metadata": {
  "kernelspec": {
   "display_name": "Python 3",
   "language": "python",
   "name": "python3"
  },
  "language_info": {
   "codemirror_mode": {
    "name": "ipython",
    "version": 3
   },
   "file_extension": ".py",
   "mimetype": "text/x-python",
   "name": "python",
   "nbconvert_exporter": "python",
   "pygments_lexer": "ipython3",
   "version": "3.7.6"
  }
 },
 "nbformat": 4,
 "nbformat_minor": 4
}
